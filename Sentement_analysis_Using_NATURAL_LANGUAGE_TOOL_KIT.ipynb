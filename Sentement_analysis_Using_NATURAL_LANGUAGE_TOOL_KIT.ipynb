{
  "nbformat": 4,
  "nbformat_minor": 0,
  "metadata": {
    "colab": {
      "provenance": []
    },
    "kernelspec": {
      "name": "python3",
      "display_name": "Python 3"
    },
    "language_info": {
      "name": "python"
    }
  },
  "cells": [
    {
      "cell_type": "markdown",
      "source": [
        "IMPORTING LIBRARIES"
      ],
      "metadata": {
        "id": "v3Ym_nKbOF1_"
      }
    },
    {
      "cell_type": "code",
      "source": [
        "import nltk\n",
        "from nltk.tokenize import word_tokenize, sent_tokenize\n",
        "from nltk.corpus import stopwords\n",
        "from collections import Counter\n",
        "import string\n",
        "from nltk.sentiment import SentimentIntensityAnalyzer"
      ],
      "metadata": {
        "id": "4MgjRDGxOFcF"
      },
      "execution_count": 1,
      "outputs": []
    },
    {
      "cell_type": "markdown",
      "source": [
        "\n",
        "\n",
        "Downloading the necessary NLTK data silently\n",
        "\n",
        "\n"
      ],
      "metadata": {
        "id": "YQj5o1IqOM0g"
      }
    },
    {
      "cell_type": "code",
      "source": [
        "nltk.download('punkt', quiet=True)\n",
        "nltk.download('stopwords', quiet=True)\n",
        "nltk.download('vader_lexicon', quiet=True)"
      ],
      "metadata": {
        "colab": {
          "base_uri": "https://localhost:8080/"
        },
        "id": "-I1IGg4NOMPi",
        "outputId": "d1e3cd34-5dc8-4407-f8d8-fe025f90b65d"
      },
      "execution_count": 2,
      "outputs": [
        {
          "output_type": "execute_result",
          "data": {
            "text/plain": [
              "True"
            ]
          },
          "metadata": {},
          "execution_count": 2
        }
      ]
    },
    {
      "cell_type": "markdown",
      "source": [
        "PREPARING THE REVIEW DATA"
      ],
      "metadata": {
        "id": "sW-48t-tPPie"
      }
    },
    {
      "cell_type": "code",
      "source": [
        "def get_reviews(product_name):\n",
        "\n",
        "    return [\n",
        "        \"This is a best Hight adjustable table. The best part of this table it, it can be adjusted horizontally and vertically. I got good responses and service from the Seller, Jim Office. I brought this table for my son to do his study and for his project works. He is loving it, as it helps him to work while standing whenever possible.The Table assembly is very strong and easy to assemble and operate. The tabletop looks very descent and strong.I would recommend people who are looking for comfortable and reliable study or office table for home use.\",\n",
        "        \"The product is too good. Nice finishing and the manual helps to assemble which takes approximately 1-2 hours. I would say the quality is top-notch. The level of comfort it gives while working is very satisfying and of course, the extended adjustable height of the table is an added advantage that made the product attractive..\",\n",
        "        \"I recently purchased this height-adjustable standing table, and it has completely transformed my workspace. The build quality is outstanding, with a sturdy frame and smooth height adjustment mechanism. I can easily switch between sitting and standing positions, which has significantly improved my posture and productivity.The tabletop is spacious, accommodating my laptop, monitor, and other essentials without feeling cramped. Assembly was straightforward, with clear instructions and all necessary tools included. The sleek, modern design fits perfectly with my office decor.Overall, this standing table is a fantastic investment for anyone looking to enhance their workspace and promote a healthier work routine. Highly recommended!\",\n",
        "        \"The table does not go below 2ft 6 inches. My Office desk goes till 2ft. I am 5 ft 3inch , still my legs don't touch floor. Wasted money!!!!\",\n",
        "        \"It is steady at the maximum height also... and the height adjustment works smoothly even when I was sitting on it. Parts are very well built and strong. Great product for work-from-home setup.\",\n",
        "        \"Assembling of the product is very tough...no proper instructions are given... Not worth the money.. Can't recommend this product.....\",\n",
        "        \"It is looking good. Quality is medium. Easy install.\",\n",
        "        \"I am using this for my WFH setup. This is a simple and the best height-adjustable table. Setup process was also easier with the images in the manual. The wood screws were slightly misthreaded. You just need to adjust and screw it. Overall the quality is good and I am using this for 1 month.\",\n",
        "        \"Cost is high but quality is excellent.\",\n",
        "        \"Good table. Legs are heavy and sturdy but not very easy to assemble.\",\n",
        "        \"Nice and suitable for purpose. Looks slightly expensive. They can improve by using lightweight solid wood. Also, instead of directly screwing the metal base in wood, they can think of providing prefixed or press-fit metal thread hole in wood.\",\n",
        "        \"I was not satisfied with the overall build quality. Specifically, the rotating arm lever arm is made of plastic, which is unjustifiable at this point, and its attachment to the table is extremely fragile. This makes me doubtful about its durability in the long run.\"\n",
        "    ]\n"
      ],
      "metadata": {
        "id": "off-FGHGPOLQ"
      },
      "execution_count": 3,
      "outputs": []
    },
    {
      "cell_type": "markdown",
      "source": [
        "TOKENISING THE DATA AND REMOVING STOP WORDS AND PUNCTUATIONS AND RETURNING A LIST OF WORDS"
      ],
      "metadata": {
        "id": "ewbSjEwcPcoC"
      }
    },
    {
      "cell_type": "code",
      "source": [
        "def preprocess_reviews(reviews):\n",
        "\n",
        "    stop_words = set(stopwords.words('english'))\n",
        "    all_words = [word.lower() for review in reviews for word in word_tokenize(review)\n",
        "                 if word.lower() not in stop_words and word not in string.punctuation]\n",
        "    return all_words"
      ],
      "metadata": {
        "id": "PcyFz3TgPOBD"
      },
      "execution_count": 4,
      "outputs": []
    },
    {
      "cell_type": "markdown",
      "source": [
        " Performing sentiment analysis on the reviews and returns the average sentiment score"
      ],
      "metadata": {
        "id": "D2DzMqGJPpxK"
      }
    },
    {
      "cell_type": "code",
      "source": [
        "\n",
        "def analyze_sentiment(reviews):\n",
        "\n",
        "    sia = SentimentIntensityAnalyzer()\n",
        "    sentiments = [sia.polarity_scores(review)['compound'] for review in reviews]\n",
        "    avg_sentiment = sum(sentiments) / len(sentiments)\n",
        "    return avg_sentiment"
      ],
      "metadata": {
        "id": "92uCgzAaPwlE"
      },
      "execution_count": 5,
      "outputs": []
    },
    {
      "cell_type": "markdown",
      "source": [
        "\n",
        "  Extracting the positive and negative aspects from the reviews.\n",
        "    "
      ],
      "metadata": {
        "id": "i0-YVoI4P-l6"
      }
    },
    {
      "cell_type": "code",
      "source": [
        "def extract_aspects(reviews, positive_words, negative_words):\n",
        "\n",
        "    positive_aspects = []\n",
        "    negative_aspects = []\n",
        "\n",
        "    for review in reviews:\n",
        "        sentences = sent_tokenize(review.lower())\n",
        "        for sentence in sentences:\n",
        "            words = word_tokenize(sentence)\n",
        "            if any(word in words for word in positive_words):\n",
        "                positive_aspects.append(sentence.capitalize())\n",
        "            if any(word in words for word in negative_words):\n",
        "                negative_aspects.append(sentence.capitalize())\n",
        "\n",
        "    return positive_aspects, negative_aspects"
      ],
      "metadata": {
        "id": "vC06VgzhQKgS"
      },
      "execution_count": 6,
      "outputs": []
    },
    {
      "cell_type": "markdown",
      "source": [
        "Summarizing the reviews by analyzing common words, sentiment, and highlighting positive and negative aspects"
      ],
      "metadata": {
        "id": "5CHaEl9lQN0y"
      }
    },
    {
      "cell_type": "code",
      "source": [
        "def summarize_reviews(reviews):\n",
        "    \"\"\"\n",
        "    Summarizes the reviews by analyzing common words, sentiment, and highlighting positive and negative aspects.\n",
        "    \"\"\"\n",
        "    all_words = preprocess_reviews(reviews)\n",
        "    top_aspects = [word for word, _ in Counter(all_words).most_common(5)]\n",
        "\n",
        "    avg_sentiment = analyze_sentiment(reviews)\n",
        "    sentiment_desc = \"positive\" if avg_sentiment > 0.05 else \"negative\" if avg_sentiment < -0.05 else \"mixed\"\n",
        "\n",
        "    positive_words = ['good', 'great', 'excellent', 'love', 'best', 'comfortable', 'easy']\n",
        "    negative_words = ['difficult', 'challenging', 'expensive', 'disappointing', 'issue', 'problem', 'bad']\n",
        "\n",
        "    positive_aspects, negative_aspects = extract_aspects(reviews, positive_words, negative_words)\n",
        "\n",
        "    top_positive = max(positive_aspects, key=len) if positive_aspects else \"\"\n",
        "    top_negative = max(negative_aspects, key=len) if negative_aspects else \"\"\n",
        "\n",
        "    # Generating the summary\n",
        "    summary = f\"Customer reviews for the Manual Height Adjustable Desk are generally {sentiment_desc}, with frequent mentions of {', '.join(top_aspects[:3])}. \"\n",
        "    if top_negative:\n",
        "        summary += f\"However, some customers expressed concerns such as '{top_negative}'.\"\n",
        "\n",
        "    return summary"
      ],
      "metadata": {
        "id": "B2TLwEY9QcVp"
      },
      "execution_count": 7,
      "outputs": []
    },
    {
      "cell_type": "code",
      "source": [
        "def main():\n",
        "    product_name = \"Manual Height Adjustable Desk\"\n",
        "    reviews = get_reviews(product_name)\n",
        "    summary = summarize_reviews(reviews)\n",
        "\n",
        "    print(f\"What Customers are saying about {product_name}:\")\n",
        "    print(summary)\n",
        "\n",
        "if __name__ == \"__main__\":\n",
        "    main()"
      ],
      "metadata": {
        "colab": {
          "base_uri": "https://localhost:8080/"
        },
        "id": "hO46IZQxPN1F",
        "outputId": "d101a661-dac8-4c48-a0e6-4ff60b996a4d"
      },
      "execution_count": 8,
      "outputs": [
        {
          "output_type": "stream",
          "name": "stdout",
          "text": [
            "What Customers are saying about Manual Height Adjustable Desk:\n",
            "Customer reviews for the Manual Height Adjustable Desk are generally positive, with frequent mentions of table, quality, good. However, some customers expressed concerns such as 'Looks slightly expensive.'.\n"
          ]
        }
      ]
    },
    {
      "cell_type": "markdown",
      "source": [
        "Final OUTPUT:What Customers are saying about Manual Height Adjustable Desk:\n",
        "Customer reviews for the Manual Height Adjustable Desk are generally positive, with frequent mentions of table, quality, good. However, some customers expressed concerns such as 'Looks slightly expensive.'."
      ],
      "metadata": {
        "id": "jKJn5pQeRFD8"
      }
    }
  ]
}